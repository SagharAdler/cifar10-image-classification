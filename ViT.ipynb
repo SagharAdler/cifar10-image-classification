{
  "nbformat": 4,
  "nbformat_minor": 0,
  "metadata": {
    "colab": {
      "provenance": [],
      "gpuType": "T4"
    },
    "kernelspec": {
      "name": "python3",
      "display_name": "Python 3"
    },
    "language_info": {
      "name": "python"
    },
    "accelerator": "GPU"
  },
  "cells": [
    {
      "cell_type": "markdown",
      "source": [
        "## Introduction\n",
        "\n",
        "In this notebook, we perform image classification on the CIFAR-10 dataset using a feature extraction approach applied to a pre-trained Vision Transformer (ViT) model.\n",
        "The Vision Transformer (ViT) is a deep learning model that applies transformer architectures to image classification tasks. Instead of using convolutional layers, ViT treats an image as a sequence of patches and processes it similarly to word tokens in NLP, allowing the model to capture long-range dependencies and global context more effectively.\n",
        "\n",
        "For this project:\n",
        "- We load a Vision Transformer (ViT) model pre-trained on the ImageNet dataset.\n",
        "- We remove the original final classification head.\n",
        "- We extract features from the frozen ViT.\n",
        "- Initially, we considered using a pure linear probing approach (training only a single linear layer on top of the extracted features).\n",
        "- However, to improve performance, we instead train a small two-layer neural network (MLP) with a hidden layer and dropout regularization on top of the ViT features.\n",
        "\n",
        "Training is performed using PyTorch, and model performance is evaluated based on both training and validation accuracy.\n",
        "\n",
        "---\n",
        "\n",
        "### Reference\n",
        "\n",
        "Dosovitskiy, A., Beyer, L., Kolesnikov, A., Weissenborn, D., Zhai, X., Unterthiner, T., Dehghani, M., Minderer, M., Heigold, G., Gelly, S., Uszkoreit, J., & Houlsby, N.  \n",
        "*An Image is Worth 16x16 Words: Transformers for Image Recognition at Scale.*  \n",
        "International Conference on Learning Representations (ICLR), 2021.  \n"
      ],
      "metadata": {
        "id": "SUM8bFPsPdGM"
      }
    },
    {
      "cell_type": "code",
      "execution_count": 8,
      "metadata": {
        "id": "-m3nbmOsPNWB"
      },
      "outputs": [],
      "source": [
        "import torch\n",
        "import torchvision.models as models\n",
        "from torchvision import datasets, transforms, models\n",
        "from torchvision.models import vit_b_16, ViT_B_16_Weights\n",
        "import torchvision.transforms as transforms\n",
        "from torchsummary import summary\n",
        "import torch.nn as nn\n",
        "import torch.optim as optim\n",
        "from torch.utils.data import DataLoader,TensorDataset\n",
        "from tqdm import tqdm\n",
        "import os\n",
        "import matplotlib.pyplot as plt\n",
        "\n",
        "device = torch.device(\"cuda\" if torch.cuda.is_available() else \"cpu\")\n"
      ]
    },
    {
      "cell_type": "markdown",
      "source": [
        "## Model Loading and Feature Extraction Setup\n",
        "\n",
        "In this section, we prepare the pre-trained Vision Transformer (ViT-B/16) model for feature extraction and  load ViT-B/16 with weights trained on the ImageNet-1K dataset. All parameters of the ViT backbone are frozen to ensure that only the newly added classifier will be trained. The original classification head is replaced with an `nn.Identity()` layer. This allows the model to output high-dimensional feature vectors suitable for linear probing or training a new classifier.\n",
        "\n"
      ],
      "metadata": {
        "id": "obxOjJ5-Pyd7"
      }
    },
    {
      "cell_type": "code",
      "source": [
        "# Load the pre-trained Vision Transformer (ViT-B/16) model with ImageNet-1K weights\n",
        "weights = ViT_B_16_Weights.IMAGENET1K_V1\n",
        "vit = vit_b_16(weights=weights)\n",
        "\n",
        "# Freeze all parameters\n",
        "for param in vit.parameters():\n",
        "    param.requires_grad = False\n",
        "\n",
        "# Replace the original classification head with an Identity layer\n",
        "# This allows the model to output the extracted feature vectors instead of class scores\n",
        "vit.heads = nn.Identity()\n",
        "\n",
        "vit.eval()\n",
        "vit.to(device);"
      ],
      "metadata": {
        "id": "UjOGX28dPZ8H"
      },
      "execution_count": 9,
      "outputs": []
    },
    {
      "cell_type": "markdown",
      "source": [
        "## Data Loading and Preprocessing\n",
        "\n",
        "In this section, we prepare the CIFAR-10 dataset for input into the Vision Transformer (ViT-B/16) model. Each image is resized from 32x32 pixels to 224x224 pixels to match the input size expected by ViT-B/16. Normalization is applied using the mean and standard deviation values from ImageNet.\n"
      ],
      "metadata": {
        "id": "6gSQ26KgRwDj"
      }
    },
    {
      "cell_type": "code",
      "source": [
        "# Transformation pipeline for the CIFAR-10 images\n",
        "transform = transforms.Compose([\n",
        "    transforms.Resize((224, 224)),  # Resize images from 32x32 to 224x224 (expected by ViT-B/16)\n",
        "    transforms.ToTensor(),          # Convert PIL images to PyTorch tensors\n",
        "    transforms.Normalize(\n",
        "        mean=[0.485, 0.456, 0.406],  # Normalize using ImageNet mean\n",
        "        std=[0.229, 0.224, 0.225]    # Normalize using ImageNet standard deviation\n",
        "    )\n",
        "])\n",
        "\n",
        "\n",
        "trainset = datasets.CIFAR10(root=\"./data\", train=True, download=True, transform=transform)\n",
        "testset = datasets.CIFAR10(root=\"./data\", train=False, download=True, transform=transform)\n",
        "\n",
        "trainloader = DataLoader(trainset, batch_size=64, shuffle=True)\n",
        "testloader = DataLoader(testset, batch_size=64, shuffle=False)\n"
      ],
      "metadata": {
        "colab": {
          "base_uri": "https://localhost:8080/"
        },
        "id": "npoDZOwXRb3g",
        "outputId": "b813ba49-c726-4462-e6a3-b3418ecf1dde"
      },
      "execution_count": 10,
      "outputs": [
        {
          "output_type": "stream",
          "name": "stderr",
          "text": [
            "100%|██████████| 170M/170M [00:03<00:00, 56.2MB/s]\n"
          ]
        }
      ]
    },
    {
      "cell_type": "markdown",
      "source": [
        "## Feature Extraction for Linear Probing\n",
        "\n",
        "To perform classification using a feature extraction approach with the Vision Transformer (ViT-B/16), both the training and test datasets are passed through the frozen ViT model. For each image batch, the model outputs a feature vector of size 768.\n"
      ],
      "metadata": {
        "id": "FsQN4oyJR6P7"
      }
    },
    {
      "cell_type": "code",
      "source": [
        "# Lists to store extracted training features and corresponding labels\n",
        "train_features, train_labels = [], []\n",
        "\n",
        "# Extract features from the training dataset using the frozen ViT model\n",
        "with torch.no_grad():\n",
        "    for images, labels in tqdm(trainloader):\n",
        "        images = images.to(device)\n",
        "        features = vit(images)          # Feature output: [batch_size, 768]\n",
        "        train_features.append(features.cpu())\n",
        "        train_labels.append(labels)\n",
        "\n",
        "train_features = torch.cat(train_features)\n",
        "train_labels = torch.cat(train_labels)\n",
        "\n",
        "# Lists to store extracted test features and corresponding labels\n",
        "test_features, test_labels = [], []\n",
        "\n",
        "# Extract features from the test dataset using the frozen ViT model\n",
        "with torch.no_grad():\n",
        "    for images, labels in tqdm(testloader):\n",
        "        images = images.to(device)\n",
        "        features = vit(images)          # Feature output: [batch_size, 768]\n",
        "        test_features.append(features.cpu())\n",
        "        test_labels.append(labels)\n",
        "\n",
        "test_features = torch.cat(test_features)\n",
        "test_labels = torch.cat(test_labels)\n",
        "\n",
        "train_dataset = TensorDataset(train_features, train_labels)\n",
        "test_dataset = TensorDataset(test_features, test_labels)\n",
        "\n",
        "trainloader = DataLoader(train_dataset, batch_size=64, shuffle=True)\n",
        "testloader = DataLoader(test_dataset, batch_size=64, shuffle=False)\n"
      ],
      "metadata": {
        "colab": {
          "base_uri": "https://localhost:8080/"
        },
        "id": "9gQmLwHZPgxf",
        "outputId": "6f458a91-827d-4869-b8af-35e549a84c0f"
      },
      "execution_count": 11,
      "outputs": [
        {
          "output_type": "stream",
          "name": "stderr",
          "text": [
            "100%|██████████| 782/782 [10:47<00:00,  1.21it/s]\n",
            "100%|██████████| 157/157 [02:09<00:00,  1.22it/s]\n"
          ]
        }
      ]
    },
    {
      "cell_type": "markdown",
      "source": [
        "## Training a Two-Layer Neural Network on ViT Features\n",
        "\n",
        "In this section, we train a small feed-forward neural network on top of the extracted feature representations from the Vision Transformer (ViT-B/16):\n",
        "\n",
        "- **Classifier Architecture**:\n",
        "  - A multilayer perceptron (MLP) with:\n",
        "    - An input size of 768 (ViT feature dimension).\n",
        "    - A hidden layer with 512 units and ReLU activation.\n",
        "    - Dropout layers before and after the hidden layer for regularization.\n",
        "    - A final output layer mapping to the 10 CIFAR-10 classes.\n",
        "\n",
        "- **Training Setup**:\n",
        "  - Optimizer: Adam with an initial learning rate of 5e-4 and weight decay of 1e-3 for regularization.\n",
        "  - Learning rate scheduler: Exponential decay with a decay rate of 0.9 applied after each epoch.\n",
        "  - Loss function: Cross-entropy loss for multi-class classification.\n",
        "\n"
      ],
      "metadata": {
        "id": "vLSOvuGISa3L"
      }
    },
    {
      "cell_type": "code",
      "source": [
        "# Number of training epochs\n",
        "epochs = 50\n",
        "\n",
        "train_losses = []\n",
        "train_acc = []\n",
        "test_losses = []\n",
        "test_acc = []\n",
        "\n",
        "# Define a simple classifier on top of the 768-dimensional ViT features\n",
        "classifier = nn.Sequential(\n",
        "    nn.Dropout(0.25),\n",
        "    nn.Linear(768, 512),\n",
        "    nn.ReLU(),\n",
        "    nn.Dropout(0.25),\n",
        "    nn.Linear(512, 10)\n",
        ").to(device)\n",
        "\n",
        "# Define the optimizer and learning rate scheduler\n",
        "optimizer = torch.optim.Adam(classifier.parameters(), lr=5e-4, weight_decay=1e-3)\n",
        "scheduler = torch.optim.lr_scheduler.ExponentialLR(optimizer, gamma=0.9)\n",
        "\n",
        "# Define the loss function\n",
        "criterion = nn.CrossEntropyLoss()\n",
        "\n",
        "# Training loop\n",
        "for epoch in range(epochs):\n",
        "    classifier.train()\n",
        "    running_loss = 0.0\n",
        "    correct = 0\n",
        "    total = 0\n",
        "\n",
        "    for features, labels in trainloader:\n",
        "        features, labels = features.to(device), labels.to(device)\n",
        "\n",
        "        optimizer.zero_grad()\n",
        "        outputs = classifier(features)\n",
        "        loss = criterion(outputs, labels)\n",
        "        loss.backward()\n",
        "        optimizer.step()\n",
        "\n",
        "        running_loss += loss.item()\n",
        "        _, predicted = outputs.max(1)\n",
        "        correct += predicted.eq(labels).sum().item()\n",
        "        total += labels.size(0)\n",
        "\n",
        "    avg_loss = running_loss / len(trainloader)\n",
        "    train_losses.append(avg_loss)\n",
        "    train_acc.append(100 * correct / total)\n",
        "\n",
        "    # Update learning rate\n",
        "    scheduler.step()\n",
        "\n",
        "    # Evaluation phase\n",
        "    classifier.eval()\n",
        "    test_loss = 0.0\n",
        "    test_correct = 0\n",
        "    test_total = 0\n",
        "\n",
        "    with torch.no_grad():\n",
        "        for features, labels in testloader:\n",
        "            features, labels = features.to(device), labels.to(device)\n",
        "            outputs = classifier(features)\n",
        "            loss = criterion(outputs, labels)\n",
        "\n",
        "            test_loss += loss.item()\n",
        "            _, predicted = outputs.max(1)\n",
        "            test_correct += predicted.eq(labels).sum().item()\n",
        "            test_total += labels.size(0)\n",
        "\n",
        "    # Calculate and store average test loss and accuracy for the epoch\n",
        "    avg_test_loss = test_loss / len(testloader)\n",
        "    test_accuracy = 100 * test_correct / test_total\n",
        "    test_losses.append(avg_test_loss)\n",
        "    test_acc.append(test_accuracy)\n",
        "\n",
        "print(\"\\n=== Final Results After Training ===\")\n",
        "print(f\"Final Training Loss: {train_losses[-1]:.4f}\")\n",
        "print(f\"Final Training Accuracy: {train_acc[-1]:.2f}%\")\n",
        "print(f\"Final Test Loss: {test_losses[-1]:.4f}\")\n",
        "print(f\"Final Test Accuracy: {test_acc[-1]:.2f}%\")\n"
      ],
      "metadata": {
        "colab": {
          "base_uri": "https://localhost:8080/"
        },
        "id": "YQgWg0NDPifK",
        "outputId": "f16d4b3e-f027-4901-9804-dfb528b83b6f"
      },
      "execution_count": 12,
      "outputs": [
        {
          "output_type": "stream",
          "name": "stdout",
          "text": [
            "\n",
            "=== Final Results After Training ===\n",
            "Final Training Loss: 0.0663\n",
            "Final Training Accuracy: 97.98%\n",
            "Final Test Loss: 0.1139\n",
            "Final Test Accuracy: 96.11%\n"
          ]
        }
      ]
    },
    {
      "cell_type": "markdown",
      "source": [
        "## Conclusion\n",
        "\n",
        "After training a small two-layer neural network on top of the extracted Vision Transformer (ViT-B/16) features for 50 epochs, the final results are summarized below:\n",
        "\n",
        "| Metric                  | Value          |\n",
        "|--------------------------|----------------|\n",
        "| Final Training Loss      | 0.0663          |\n",
        "| Final Training Accuracy  | 97.98%          |\n",
        "| Final Test Loss          | 0.1139          |\n",
        "| Final Test Accuracy      | 96.11%          |\n",
        "\n",
        "By using a two-layer MLP on top of frozen ViT features, we achieved a **final test accuracy of 96.11%**, which is the highest among all models evaluated in this project.This experiment highlights the power of transformer-based architectures for image classification tasks, even with minimal fine-tuning.\n"
      ],
      "metadata": {
        "id": "U_z2BRYrV_-Q"
      }
    },
    {
      "cell_type": "code",
      "source": [
        "plt.figure(figsize=(8, 3))\n",
        "\n",
        "plt.subplot(1, 2, 1)\n",
        "plt.plot(train_losses, label='Train Loss')\n",
        "plt.plot(test_losses, label='Test Loss')\n",
        "plt.xlabel('Epoch')\n",
        "plt.ylabel('Loss')\n",
        "plt.title('Training vs Test Loss')\n",
        "plt.legend()\n",
        "plt.grid(True)\n",
        "\n",
        "plt.subplot(1, 2, 2)\n",
        "plt.plot(train_acc, label='Train Accuracy')\n",
        "plt.plot(test_acc, label='Test Accuracy')\n",
        "plt.xlabel('Epoch')\n",
        "plt.ylabel('Accuracy (%)')\n",
        "plt.title('Training vs Test Accuracy')\n",
        "plt.legend()\n",
        "plt.grid(True)\n",
        "\n",
        "plt.tight_layout()\n",
        "plt.show()\n"
      ],
      "metadata": {
        "colab": {
          "base_uri": "https://localhost:8080/",
          "height": 307
        },
        "id": "TmISc0uQUPLF",
        "outputId": "238b1fba-af00-45ed-ce2a-5ad857b0c944"
      },
      "execution_count": 13,
      "outputs": [
        {
          "output_type": "display_data",
          "data": {
            "text/plain": [
              "<Figure size 800x300 with 2 Axes>"
            ],
            "image/png": "[encoded data removed]"
          },
          "metadata": {}
        }
      ]
    }
  ]
}