{
  "cells": [
    {
      "cell_type": "markdown",
      "metadata": {
        "id": "JdLx3e7R0QRE"
      },
      "source": [
        "## Introduction\n",
        "\n",
        "In this notebook, we perform image classification on the CIFAR-10 dataset using a feature extraction approach applied to a pre-trained ResNet-18 model.\n",
        "\n",
        "ResNet-18 is a deep convolutional neural network that introduced the concept of residual learning through skip connections. Residual connections help mitigate the vanishing gradient problem and allow much deeper networks to be trained effectively. ResNet-18 is a relatively lightweight version of the ResNet family and features 18 layers.\n",
        "\n",
        "For this project:\n",
        "- We load a ResNet-18 model pre-trained on the ImageNet dataset.\n",
        "- We remove the original final fully connected layer.\n",
        "- We extract features from the frozen ResNet-18.\n",
        "- Initially, we considered using a pure linear probing approach (training only a single linear layer on top of the features).\n",
        "- However, to improve performance, we instead train a small two-layer neural network (MLP) with a hidden layer and dropout regularization on top of the extracted features.\n",
        "\n",
        "Training is performed using PyTorch, and model performance is evaluated based on both training and validation accuracy.\n",
        "\n",
        "---\n",
        "\n",
        "### Reference\n",
        "\n",
        "He, Kaiming; Zhang, Xiangyu; Ren, Shaoqing; and Sun, Jian.  \n",
        "*Deep Residual Learning for Image Recognition.*  \n",
        "Proceedings of the IEEE Conference on Computer Vision and Pattern Recognition (CVPR), 2016.\n"
      ]
    },
    {
      "cell_type": "code",
      "execution_count": 5,
      "metadata": {
        "id": "Y8W5NzZ-6h2s"
      },
      "outputs": [],
      "source": [
        "import torch\n",
        "import torchvision.models as models\n",
        "from torchvision import datasets, transforms, models\n",
        "import torchvision.transforms as transforms\n",
        "from torchvision.models import resnet18, ResNet18_Weights\n",
        "from torchsummary import summary\n",
        "import torch.nn as nn\n",
        "import torch.optim as optim\n",
        "from torch.utils.data import DataLoader,TensorDataset\n",
        "from tqdm import tqdm\n",
        "import os\n",
        "import matplotlib.pyplot as plt\n",
        "\n",
        "device = torch.device(\"cuda\" if torch.cuda.is_available() else \"cpu\")"
      ]
    },
    {
      "cell_type": "markdown",
      "metadata": {
        "id": "oVxlFRs119ge"
      },
      "source": [
        "## Model Loading and Initialization\n",
        "\n",
        "First, we load the ResNet-18 model pre-trained on the ImageNet dataset."
      ]
    },
    {
      "cell_type": "code",
      "execution_count": 7,
      "metadata": {
        "colab": {
          "base_uri": "https://localhost:8080/"
        },
        "id": "d5s0UAFi0PG1",
        "outputId": "129e4de2-6e42-4add-c079-9b1f43d34b14"
      },
      "outputs": [
        {
          "name": "stdout",
          "output_type": "stream",
          "text": [
            "----------------------------------------------------------------\n",
            "        Layer (type)               Output Shape         Param #\n",
            "================================================================\n",
            "            Conv2d-1         [-1, 64, 112, 112]           9,408\n",
            "       BatchNorm2d-2         [-1, 64, 112, 112]             128\n",
            "              ReLU-3         [-1, 64, 112, 112]               0\n",
            "         MaxPool2d-4           [-1, 64, 56, 56]               0\n",
            "            Conv2d-5           [-1, 64, 56, 56]          36,864\n",
            "       BatchNorm2d-6           [-1, 64, 56, 56]             128\n",
            "              ReLU-7           [-1, 64, 56, 56]               0\n",
            "            Conv2d-8           [-1, 64, 56, 56]          36,864\n",
            "       BatchNorm2d-9           [-1, 64, 56, 56]             128\n",
            "             ReLU-10           [-1, 64, 56, 56]               0\n",
            "       BasicBlock-11           [-1, 64, 56, 56]               0\n",
            "           Conv2d-12           [-1, 64, 56, 56]          36,864\n",
            "      BatchNorm2d-13           [-1, 64, 56, 56]             128\n",
            "             ReLU-14           [-1, 64, 56, 56]               0\n",
            "           Conv2d-15           [-1, 64, 56, 56]          36,864\n",
            "      BatchNorm2d-16           [-1, 64, 56, 56]             128\n",
            "             ReLU-17           [-1, 64, 56, 56]               0\n",
            "       BasicBlock-18           [-1, 64, 56, 56]               0\n",
            "           Conv2d-19          [-1, 128, 28, 28]          73,728\n",
            "      BatchNorm2d-20          [-1, 128, 28, 28]             256\n",
            "             ReLU-21          [-1, 128, 28, 28]               0\n",
            "           Conv2d-22          [-1, 128, 28, 28]         147,456\n",
            "      BatchNorm2d-23          [-1, 128, 28, 28]             256\n",
            "           Conv2d-24          [-1, 128, 28, 28]           8,192\n",
            "      BatchNorm2d-25          [-1, 128, 28, 28]             256\n",
            "             ReLU-26          [-1, 128, 28, 28]               0\n",
            "       BasicBlock-27          [-1, 128, 28, 28]               0\n",
            "           Conv2d-28          [-1, 128, 28, 28]         147,456\n",
            "      BatchNorm2d-29          [-1, 128, 28, 28]             256\n",
            "             ReLU-30          [-1, 128, 28, 28]               0\n",
            "           Conv2d-31          [-1, 128, 28, 28]         147,456\n",
            "      BatchNorm2d-32          [-1, 128, 28, 28]             256\n",
            "             ReLU-33          [-1, 128, 28, 28]               0\n",
            "       BasicBlock-34          [-1, 128, 28, 28]               0\n",
            "           Conv2d-35          [-1, 256, 14, 14]         294,912\n",
            "      BatchNorm2d-36          [-1, 256, 14, 14]             512\n",
            "             ReLU-37          [-1, 256, 14, 14]               0\n",
            "           Conv2d-38          [-1, 256, 14, 14]         589,824\n",
            "      BatchNorm2d-39          [-1, 256, 14, 14]             512\n",
            "           Conv2d-40          [-1, 256, 14, 14]          32,768\n",
            "      BatchNorm2d-41          [-1, 256, 14, 14]             512\n",
            "             ReLU-42          [-1, 256, 14, 14]               0\n",
            "       BasicBlock-43          [-1, 256, 14, 14]               0\n",
            "           Conv2d-44          [-1, 256, 14, 14]         589,824\n",
            "      BatchNorm2d-45          [-1, 256, 14, 14]             512\n",
            "             ReLU-46          [-1, 256, 14, 14]               0\n",
            "           Conv2d-47          [-1, 256, 14, 14]         589,824\n",
            "      BatchNorm2d-48          [-1, 256, 14, 14]             512\n",
            "             ReLU-49          [-1, 256, 14, 14]               0\n",
            "       BasicBlock-50          [-1, 256, 14, 14]               0\n",
            "           Conv2d-51            [-1, 512, 7, 7]       1,179,648\n",
            "      BatchNorm2d-52            [-1, 512, 7, 7]           1,024\n",
            "             ReLU-53            [-1, 512, 7, 7]               0\n",
            "           Conv2d-54            [-1, 512, 7, 7]       2,359,296\n",
            "      BatchNorm2d-55            [-1, 512, 7, 7]           1,024\n",
            "           Conv2d-56            [-1, 512, 7, 7]         131,072\n",
            "      BatchNorm2d-57            [-1, 512, 7, 7]           1,024\n",
            "             ReLU-58            [-1, 512, 7, 7]               0\n",
            "       BasicBlock-59            [-1, 512, 7, 7]               0\n",
            "           Conv2d-60            [-1, 512, 7, 7]       2,359,296\n",
            "      BatchNorm2d-61            [-1, 512, 7, 7]           1,024\n",
            "             ReLU-62            [-1, 512, 7, 7]               0\n",
            "           Conv2d-63            [-1, 512, 7, 7]       2,359,296\n",
            "      BatchNorm2d-64            [-1, 512, 7, 7]           1,024\n",
            "             ReLU-65            [-1, 512, 7, 7]               0\n",
            "       BasicBlock-66            [-1, 512, 7, 7]               0\n",
            "AdaptiveAvgPool2d-67            [-1, 512, 1, 1]               0\n",
            "           Linear-68                 [-1, 1000]         513,000\n",
            "================================================================\n",
            "Total params: 11,689,512\n",
            "Trainable params: 11,689,512\n",
            "Non-trainable params: 0\n",
            "----------------------------------------------------------------\n",
            "Input size (MB): 0.57\n",
            "Forward/backward pass size (MB): 62.79\n",
            "Params size (MB): 44.59\n",
            "Estimated Total Size (MB): 107.96\n",
            "----------------------------------------------------------------\n"
          ]
        }
      ],
      "source": [
        "# Load ResNet-18 model with pre-trained ImageNet weights\n",
        "weights = ResNet18_Weights.IMAGENET1K_V1\n",
        "ResNet18 = resnet18(weights=weights)\n",
        "ResNet18 = ResNet18.to(device)\n",
        "summary(ResNet18, (3, 224, 224))"
      ]
    },
    {
      "cell_type": "markdown",
      "metadata": {
        "id": "MPbmMsvy2LAi"
      },
      "source": [
        "## Data Loading and Preprocessing\n",
        "\n",
        "In this section, we prepare the CIFAR-10 dataset for input into the ResNet-18 model. Each image is resized from 32x32 pixels to 224x224 pixels to match the input size expected by ResNet-18. Normalization is applied using the mean and standard deviation values from ImageNet."
      ]
    },
    {
      "cell_type": "code",
      "execution_count": 8,
      "metadata": {
        "colab": {
          "base_uri": "https://localhost:8080/"
        },
        "id": "cpP2iJJA8bxp",
        "outputId": "587eb34f-01d1-4c11-90dc-6df6fd3b809b"
      },
      "outputs": [
        {
          "name": "stderr",
          "output_type": "stream",
          "text": [
            "100%|██████████| 170M/170M [00:03<00:00, 43.0MB/s]\n"
          ]
        }
      ],
      "source": [
        "# The transformation pipeline for CIFAR-10 images\n",
        "transform = transforms.Compose([\n",
        "    transforms.Resize((224, 224)),  # Resize images from 32x32 to 224x224 (expected by ResNet-18)\n",
        "    transforms.ToTensor(),          # Convert PIL image to PyTorch tensor\n",
        "    transforms.Normalize(\n",
        "        mean=[0.485, 0.456, 0.406],  # Normalize using ImageNet mean\n",
        "        std=[0.229, 0.224, 0.225]    # Normalize using ImageNet standard deviation\n",
        "    )\n",
        "])\n",
        "\n",
        "# ------------------------------------------\n",
        "# CIFAR-10 Dataset and DataLoaders\n",
        "# ------------------------------------------\n",
        "\n",
        "trainset = datasets.CIFAR10(root='./data', train=True, download=True, transform=transform)\n",
        "testset = datasets.CIFAR10(root='./data', train=False, download=True, transform=transform)\n",
        "\n",
        "trainloader = DataLoader(\n",
        "    trainset,\n",
        "    batch_size=64,\n",
        "    shuffle=True,                  # Shuffle training data to improve generalization\n",
        "    num_workers=os.cpu_count(),\n",
        "    pin_memory=True\n",
        ")\n",
        "\n",
        "# Create a DataLoader for the test set\n",
        "testloader = DataLoader(\n",
        "    testset,\n",
        "    batch_size=64,\n",
        "    shuffle=False,                  # No need to shuffle test data\n",
        "    num_workers=os.cpu_count(),\n",
        "    pin_memory=True\n",
        ")\n"
      ]
    },
    {
      "cell_type": "markdown",
      "metadata": {
        "id": "5q6mqyIn2ige"
      },
      "source": [
        "## Feature Extraction\n",
        "\n",
        "To perform linear probing, we first extract high-level feature representations from the pre-trained ResNet-18 model. We remove the final fully connected classification layer from ResNet-18. The remaining network (up to the global average pooling layer) is used as a fixed feature extractor. We next pass both the training and test sets through the feature extractor. The final feature maps are flattened to shape (batch_size, 512).\n"
      ]
    },
    {
      "cell_type": "code",
      "execution_count": 9,
      "metadata": {
        "colab": {
          "base_uri": "https://localhost:8080/"
        },
        "id": "ij6eIlun9BEd",
        "outputId": "b6d5fec1-cf3a-4eab-d195-99a026721de5"
      },
      "outputs": [
        {
          "name": "stderr",
          "output_type": "stream",
          "text": [
            "100%|██████████| 782/782 [01:34<00:00,  8.31it/s]\n",
            "100%|██████████| 157/157 [00:18<00:00,  8.32it/s]\n"
          ]
        }
      ],
      "source": [
        "# Create a feature extractor by removing the final fully connected (classification) layer from ResNet-18\n",
        "feature_extractor = nn.Sequential(*list(ResNet18.children())[:-1])  # Keep all layers except the last FC layer\n",
        "feature_extractor.eval()\n",
        "feature_extractor.to(device)\n",
        "\n",
        "train_features = []\n",
        "train_labels = []\n",
        "\n",
        "# Extract features for the training dataset\n",
        "with torch.no_grad():\n",
        "    for images, labels in tqdm(trainloader):\n",
        "        images = images.to(device)\n",
        "        features = feature_extractor(images)             # Output shape: (batch_size, 512, 1, 1)\n",
        "        features = features.view(features.size(0), -1)   # Flatten to shape: (batch_size, 512)\n",
        "        train_features.append(features.cpu())\n",
        "        train_labels.append(labels)\n",
        "\n",
        "train_features = torch.cat(train_features)\n",
        "train_labels = torch.cat(train_labels)\n",
        "\n",
        "test_features = []\n",
        "test_labels = []\n",
        "\n",
        "# Extract features for the test dataset\n",
        "with torch.no_grad():\n",
        "    for images, labels in tqdm(testloader):\n",
        "        images = images.to(device)\n",
        "        features = feature_extractor(images)             # Output shape: (batch_size, 512, 1, 1)\n",
        "        features = features.view(features.size(0), -1)   # Flatten to shape: (batch_size, 512)\n",
        "        test_features.append(features.cpu())\n",
        "        test_labels.append(labels)\n",
        "\n",
        "test_features = torch.cat(test_features)\n",
        "test_labels = torch.cat(test_labels)\n",
        "\n",
        "train_dataset = TensorDataset(train_features, train_labels)\n",
        "test_dataset = TensorDataset(test_features, test_labels)\n",
        "\n",
        "trainloader = DataLoader(train_dataset, batch_size=64, shuffle=True)\n",
        "testloader = DataLoader(test_dataset, batch_size=64, shuffle=False)\n"
      ]
    },
    {
      "cell_type": "markdown",
      "metadata": {
        "id": "ahlz1ZhZ3Rnv"
      },
      "source": [
        "## Training a Two-Layer Neural Network on ResNet-18 Features\n",
        "\n",
        "In this section, we train a small feed-forward neural network on top of the extracted feature representations from ResNet-18.\n",
        "Originally, we considered using a simple linear probing approach (training only a single linear layer). However, to achieve better classification performance, we instead used a two-layer multilayer perceptron (MLP) with dropout regularization.\n",
        "\n",
        "The classifier architecture consists of:\n",
        "- An input layer of 512 dimensions.\n",
        "- A hidden layer reducing to 256 dimensions, followed by ReLU activation.\n",
        "- Dropout layers applied before and after the hidden layer to improve generalization.\n",
        "- A final linear layer mapping the hidden representation to 10 CIFAR-10 output classes.\n",
        "\n",
        "The training setup is as follows:\n",
        "- **Optimizer**: Adam with an initial learning rate of 0.001.\n",
        "- **Learning rate scheduler**: Exponential decay with a factor of 0.9 applied after each epoch.\n",
        "- **Loss function**: Cross-entropy loss for multi-class classification.\n",
        "\n"
      ]
    },
    {
      "cell_type": "code",
      "execution_count": 10,
      "metadata": {
        "colab": {
          "base_uri": "https://localhost:8080/"
        },
        "id": "Sv2r3lt89zwC",
        "outputId": "49b9801f-fdf6-45f4-fc2a-82bc20b69653"
      },
      "outputs": [
        {
          "name": "stdout",
          "output_type": "stream",
          "text": [
            "\n",
            "=== Final Results After Training ===\n",
            "Final Training Loss: 0.3526\n",
            "Final Training Accuracy: 87.27%\n",
            "Final Test Loss: 0.3535\n",
            "Final Test Accuracy: 88.24%\n"
          ]
        }
      ],
      "source": [
        "# Number of training epochs\n",
        "epochs = 75\n",
        "\n",
        "train_losses = []\n",
        "train_acc = []\n",
        "test_losses = []\n",
        "test_acc = []\n",
        "\n",
        "# Define a simple linear classifier on top of 512-dim ResNet-18 features\n",
        "# We also add a small MLP with Dropout for regularization\n",
        "classifier = nn.Sequential(\n",
        "    nn.Dropout(0.25),          # Dropout layer (25%)\n",
        "    nn.Linear(512, 256),        # Linear layer: 512 -> 256\n",
        "    nn.ReLU(),                 # ReLU activation\n",
        "    nn.Dropout(0.25),           # Another Dropout layer (25%)\n",
        "    nn.Linear(256, 10)          # Final linear layer: 256 -> 10 CIFAR-10 classes\n",
        ").to(device)\n",
        "\n",
        "# The optimizer (Adam) and learning rate scheduler (Exponential decay)\n",
        "optimizer = torch.optim.Adam(classifier.parameters(), lr=0.001, weight_decay=0)\n",
        "scheduler = torch.optim.lr_scheduler.ExponentialLR(optimizer, gamma=0.9)\n",
        "\n",
        "# The loss function: cross-entropy loss for multi-class classification\n",
        "criterion = nn.CrossEntropyLoss()\n",
        "\n",
        "# Training loop\n",
        "for epoch in range(epochs):\n",
        "    classifier.train()\n",
        "    running_loss = 0.0\n",
        "    correct = 0\n",
        "    total = 0\n",
        "\n",
        "    # Train over entire training dataset\n",
        "    for features, labels in trainloader:\n",
        "        features, labels = features.to(device), labels.to(device)\n",
        "\n",
        "        optimizer.zero_grad()\n",
        "        outputs = classifier(features)\n",
        "        loss = criterion(outputs, labels)\n",
        "        loss.backward()\n",
        "        optimizer.step()\n",
        "\n",
        "        running_loss += loss.item()\n",
        "        _, predicted = outputs.max(1)\n",
        "        correct += predicted.eq(labels).sum().item()\n",
        "        total += labels.size(0)\n",
        "\n",
        "    # Compute average training loss and accuracy for the epoch\n",
        "    avg_loss = running_loss / len(trainloader)\n",
        "    train_losses.append(avg_loss)\n",
        "    train_acc.append(100 * correct / total)\n",
        "\n",
        "    # Step the learning rate scheduler\n",
        "    scheduler.step()\n",
        "\n",
        "    classifier.eval()\n",
        "    test_loss = 0.0\n",
        "    test_correct = 0\n",
        "    test_total = 0\n",
        "\n",
        "    # Test over entire test dataset\n",
        "    with torch.no_grad():\n",
        "        for features, labels in testloader:\n",
        "            features, labels = features.to(device), labels.to(device)\n",
        "            outputs = classifier(features)\n",
        "            loss = criterion(outputs, labels)\n",
        "\n",
        "            test_loss += loss.item()\n",
        "            _, predicted = outputs.max(1)\n",
        "            test_correct += predicted.eq(labels).sum().item()\n",
        "            test_total += labels.size(0)\n",
        "\n",
        "    # Compute average test loss and accuracy for the epoch\n",
        "    avg_test_loss = test_loss / len(testloader)\n",
        "    test_accuracy = 100 * test_correct / test_total\n",
        "    test_losses.append(avg_test_loss)\n",
        "    test_acc.append(test_accuracy)\n",
        "\n",
        "print(\"\\n=== Final Results After Training ===\")\n",
        "print(f\"Final Training Loss: {train_losses[-1]:.4f}\")\n",
        "print(f\"Final Training Accuracy: {train_acc[-1]:.2f}%\")\n",
        "print(f\"Final Test Loss: {test_losses[-1]:.4f}\")\n",
        "print(f\"Final Test Accuracy: {test_acc[-1]:.2f}%\")\n"
      ]
    },
    {
      "cell_type": "markdown",
      "metadata": {
        "id": "ZP8JuHMD49Ki"
      },
      "source": [
        "## Conclusion\n",
        "\n",
        "After training a small two-layer neural network (MLP) on the extracted ResNet-18 feature representations for 75 epochs, the final results are summarized below:\n",
        "\n",
        "| Metric                  | Value          |\n",
        "|--------------------------|----------------|\n",
        "| Final Training Loss      | 0.3526          |\n",
        "| Final Training Accuracy  | 87.27%          |\n",
        "| Final Test Loss          | 0.3535          |\n",
        "| Final Test Accuracy      | 88.24%          |\n",
        "\n",
        "Initially, a pure linear probing approach was considered. However, to achieve better performance, a two-layer neural network with a hidden layer and dropout regularization was trained instead. Using this architecture, we achieved test accuracy of **88.24%**, with a small gap between training and validation performance.\n",
        "\n"
      ]
    },
    {
      "cell_type": "code",
      "execution_count": 11,
      "metadata": {
        "colab": {
          "base_uri": "https://localhost:8080/",
          "height": 307
        },
        "id": "ek87vieKGhML",
        "outputId": "eb0c2df5-2595-4c09-f0cb-ec0a11b51e02"
      },
      "outputs": [
        {
          "data": {
            "image/png": "[encoded data removed]",
            "text/plain": [
              "<Figure size 800x300 with 2 Axes>"
            ]
          },
          "metadata": {},
          "output_type": "display_data"
        }
      ],
      "source": [
        "plt.figure(figsize=(8, 3))\n",
        "\n",
        "plt.subplot(1, 2, 1)\n",
        "plt.plot(train_losses, label='Train Loss')\n",
        "plt.plot(test_losses, label='Test Loss')\n",
        "plt.xlabel('Epoch')\n",
        "plt.ylabel('Loss')\n",
        "plt.title('Training vs Test Loss')\n",
        "plt.legend()\n",
        "plt.grid(True)\n",
        "\n",
        "plt.subplot(1, 2, 2)\n",
        "plt.plot(train_acc, label='Train Accuracy')\n",
        "plt.plot(test_acc, label='Test Accuracy')\n",
        "plt.xlabel('Epoch')\n",
        "plt.ylabel('Accuracy (%)')\n",
        "plt.title('Training vs Test Accuracy')\n",
        "plt.legend()\n",
        "plt.grid(True)\n",
        "\n",
        "plt.tight_layout()\n",
        "plt.show()\n"
      ]
    }
  ],
  "metadata": {
    "accelerator": "GPU",
    "colab": {
      "gpuType": "T4",
      "provenance": []
    },
    "kernelspec": {
      "display_name": "Python 3",
      "name": "python3"
    },
    "language_info": {
      "name": "python"
    }
  },
  "nbformat": 4,
  "nbformat_minor": 0
}
