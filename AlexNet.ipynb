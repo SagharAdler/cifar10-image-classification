{
  "cells": [
    {
      "cell_type": "markdown",
      "source": [
        "## Introduction\n",
        "\n",
        "In this notebook, we perform image classification on the CIFAR-10 dataset using a linear probing approach applied to a pre-trained AlexNet model. While the original AlexNet was designed for larger images (224x224) and 1,000-class classification (ImageNet), here we adapt it for the smaller 32x32 CIFAR-10 images and 10 output classes.\n",
        "\n",
        "In this linear probing setup:\n",
        "- We load a version of AlexNet pre-trained on the ImageNet dataset.\n",
        "- We remove the original final fully connected (classification) layer.\n",
        "- We replace it with a new linear (dense) layer suitable for 10-class CIFAR-10 classification.\n",
        "- Other layers remain frozen.\n",
        "\n",
        "Training is performed using TensorFlow/Keras with using learning rate scheduling and dropout regularization. Model performance is evaluated using  training and validation accuracy.\n",
        "\n",
        "### Reference\n",
        "Krizhevsky, A., Sutskever, I., and Hinton, G. E. *ImageNet classification with deep convolutional neural networks.* In Advances in Neural Information Processing Systems (NIPS), pp. 1106–1114, 2012.\n",
        "\n"
      ],
      "metadata": {
        "id": "WNcfzIfya2HT"
      }
    },
    {
      "cell_type": "code",
      "execution_count": 13,
      "metadata": {
        "id": "Ydh6GwyFJzlX"
      },
      "outputs": [],
      "source": [
        "import torch\n",
        "import torchvision.models as models\n",
        "from torchvision.models import alexnet, AlexNet_Weights\n",
        "from torchvision import datasets, transforms, models\n",
        "import torchvision.transforms as transforms\n",
        "from torchsummary import summary\n",
        "import torch.nn as nn\n",
        "import torch.optim as optim\n",
        "from torch.utils.data import DataLoader,TensorDataset\n",
        "from tqdm import tqdm\n",
        "import os\n",
        "import matplotlib.pyplot as plt"
      ]
    },
    {
      "cell_type": "markdown",
      "source": [
        "## Model Initialization\n",
        "\n",
        "We initially load the AlexNet model pre-trained on the ImageNet dataset and prepare it for inference or fine-tuning. The pre-trained AlexNet model is loaded from `torchvision.models`.\n",
        "\n"
      ],
      "metadata": {
        "id": "F-6QJcE2cDtc"
      }
    },
    {
      "cell_type": "code",
      "source": [
        "device = torch.device(\"cuda\" if torch.cuda.is_available() else \"cpu\")\n",
        "\n",
        "# Load the pre-trained AlexNet model (trained on ImageNet)\n",
        "alexnet = models.alexnet(weights=AlexNet_Weights.DEFAULT)\n",
        "alexnet = alexnet.to(device)\n",
        "summary(alexnet, (3, 224, 224))"
      ],
      "metadata": {
        "id": "sXM3kKOlZ3Jd",
        "colab": {
          "base_uri": "https://localhost:8080/"
        },
        "outputId": "99ac0ea7-25cd-4e4a-963e-e9dee10bdfd0"
      },
      "execution_count": 15,
      "outputs": [
        {
          "output_type": "stream",
          "name": "stdout",
          "text": [
            "----------------------------------------------------------------\n",
            "        Layer (type)               Output Shape         Param #\n",
            "================================================================\n",
            "            Conv2d-1           [-1, 64, 55, 55]          23,296\n",
            "              ReLU-2           [-1, 64, 55, 55]               0\n",
            "         MaxPool2d-3           [-1, 64, 27, 27]               0\n",
            "            Conv2d-4          [-1, 192, 27, 27]         307,392\n",
            "              ReLU-5          [-1, 192, 27, 27]               0\n",
            "         MaxPool2d-6          [-1, 192, 13, 13]               0\n",
            "            Conv2d-7          [-1, 384, 13, 13]         663,936\n",
            "              ReLU-8          [-1, 384, 13, 13]               0\n",
            "            Conv2d-9          [-1, 256, 13, 13]         884,992\n",
            "             ReLU-10          [-1, 256, 13, 13]               0\n",
            "           Conv2d-11          [-1, 256, 13, 13]         590,080\n",
            "             ReLU-12          [-1, 256, 13, 13]               0\n",
            "        MaxPool2d-13            [-1, 256, 6, 6]               0\n",
            "AdaptiveAvgPool2d-14            [-1, 256, 6, 6]               0\n",
            "          Dropout-15                 [-1, 9216]               0\n",
            "           Linear-16                 [-1, 4096]      37,752,832\n",
            "             ReLU-17                 [-1, 4096]               0\n",
            "          Dropout-18                 [-1, 4096]               0\n",
            "           Linear-19                 [-1, 4096]      16,781,312\n",
            "             ReLU-20                 [-1, 4096]               0\n",
            "           Linear-21                 [-1, 1000]       4,097,000\n",
            "================================================================\n",
            "Total params: 61,100,840\n",
            "Trainable params: 61,100,840\n",
            "Non-trainable params: 0\n",
            "----------------------------------------------------------------\n",
            "Input size (MB): 0.57\n",
            "Forward/backward pass size (MB): 8.38\n",
            "Params size (MB): 233.08\n",
            "Estimated Total Size (MB): 242.03\n",
            "----------------------------------------------------------------\n"
          ]
        }
      ]
    },
    {
      "cell_type": "markdown",
      "source": [
        "## Data Loading and Preprocessing\n",
        "\n",
        "We next prepare the CIFAR-10 dataset for training and evaluation:\n",
        "\n",
        "  - **Resize**: Each image is resized from 32x32 pixels to 224x224 pixels to match AlexNet's expected input size.\n",
        "  - **Normalization**: Pixel values are normalized using the ImageNet mean and standard deviation."
      ],
      "metadata": {
        "id": "42UpjSEWdhMP"
      }
    },
    {
      "cell_type": "code",
      "execution_count": 10,
      "metadata": {
        "id": "6CNVDugZKUgo",
        "colab": {
          "base_uri": "https://localhost:8080/"
        },
        "outputId": "4b8049b1-80cc-4a4e-b0aa-715df7d9bed3"
      },
      "outputs": [
        {
          "output_type": "stream",
          "name": "stderr",
          "text": [
            "100%|██████████| 170M/170M [00:12<00:00, 13.2MB/s]\n"
          ]
        }
      ],
      "source": [
        "# Data transformation pipeline:\n",
        "# Resize to 224x224 → Convert to Tensor → Normalize with ImageNet stats\n",
        "transform = transforms.Compose([\n",
        "    transforms.Resize((224, 224)),  # Resize CIFAR-10 images from 32x32 to 224x224\n",
        "    transforms.ToTensor(),          # Convert PIL Image to PyTorch tensor\n",
        "    transforms.Normalize(\n",
        "        mean=[0.485, 0.456, 0.406],  # Normalize using ImageNet mean\n",
        "        std=[0.229, 0.224, 0.225]    # Normalize using ImageNet std deviation\n",
        "    )\n",
        "])\n",
        "\n",
        "# Load CIFAR-10 training and test datasets with the defined transformation\n",
        "trainset = datasets.CIFAR10(root='./data', train=True, download=True, transform=transform)\n",
        "testset = datasets.CIFAR10(root='./data', train=False, download=True, transform=transform)\n",
        "\n",
        "# Create data loaders for training and testing\n",
        "trainloader = DataLoader(trainset, batch_size=64, shuffle=True, num_workers=os.cpu_count(), pin_memory=True)\n",
        "testloader = DataLoader(testset, batch_size=64, shuffle=False, num_workers=os.cpu_count(), pin_memory=True)\n"
      ]
    },
    {
      "cell_type": "markdown",
      "source": [
        "## Feature Extraction for Linear Probing\n",
        "\n",
        "To perform linear probing, we first extract high-level feature representations from the pre-trained AlexNet model. For that purpose, we remove the final classification layer of AlexNet and use the remaining network as a fixed feature extractor.\n",
        " For both the training and test sets images are passed through the feature extractor and the resulting feature vectors (of dimension 4096) are collected.\n",
        " The extracted features and labels are combined into new `TensorDataset` objects for training and testing.\n"
      ],
      "metadata": {
        "id": "VWWbpMB2esFb"
      }
    },
    {
      "cell_type": "code",
      "source": [
        "# Create a feature extractor by removing the final classification layer from AlexNet\n",
        "feature_extractor = nn.Sequential(*list(alexnet.classifier.children())[:-1])\n",
        "alexnet.classifier = feature_extractor\n",
        "\n",
        "# Set model to evaluation mode\n",
        "alexnet.eval()\n",
        "alexnet.to(device)\n",
        "\n",
        "# Containers to store training features and labels\n",
        "train_features = []\n",
        "train_labels = []\n",
        "\n",
        "# Extract features for the training set\n",
        "with torch.no_grad():\n",
        "    for images, labels in tqdm(trainloader):\n",
        "        images = images.to(device)\n",
        "        features = alexnet(images)  # Output shape: (batch_size, 4096)\n",
        "        train_features.append(features.cpu())\n",
        "        train_labels.append(labels)\n",
        "\n",
        "train_features = torch.cat(train_features)\n",
        "train_labels = torch.cat(train_labels)\n",
        "\n",
        "# Cntainers to store testing features and labels\n",
        "test_features = []\n",
        "test_labels = []\n",
        "\n",
        "# Extract features for the testing set\n",
        "with torch.no_grad():\n",
        "    for images, labels in tqdm(testloader):\n",
        "        images = images.to(device)\n",
        "        features = alexnet(images)  # Output shape: (batch_size, 4096)\n",
        "        test_features.append(features.cpu())\n",
        "        test_labels.append(labels)\n",
        "\n",
        "\n",
        "test_features = torch.cat(test_features)\n",
        "test_labels = torch.cat(test_labels)\n",
        "\n",
        "train_dataset = TensorDataset(train_features, train_labels)\n",
        "test_dataset = TensorDataset(test_features, test_labels)\n",
        "\n",
        "trainloader = DataLoader(train_dataset, batch_size=64, shuffle=True)\n",
        "testloader = DataLoader(test_dataset, batch_size=64, shuffle=False)"
      ],
      "metadata": {
        "colab": {
          "base_uri": "https://localhost:8080/"
        },
        "id": "3mCJxePrNsBe",
        "outputId": "7da89d4a-f615-43f7-d7e1-87cb159b13bd"
      },
      "execution_count": 16,
      "outputs": [
        {
          "output_type": "stream",
          "name": "stderr",
          "text": [
            "100%|██████████| 782/782 [01:35<00:00,  8.21it/s]\n",
            "100%|██████████| 157/157 [00:17<00:00,  8.86it/s]\n"
          ]
        }
      ]
    },
    {
      "cell_type": "markdown",
      "source": [
        "## Training a Linear Classifier on Extracted Features\n",
        "\n",
        "In this section, we train a simple linear classifier on top of the 4096-dimensional feature representations extracted from AlexNet. A single fully connected layer is used to map feature vectors to the 10 CIFAR-10 classes Training Setup is as follows:\n",
        "  - Optimizer: Adam with an initial learning rate of 0.001.\n",
        "  - Learning rate decay: Exponential decay with a rate of 0.9 applied after each epoch.\n",
        "  - Loss function: Cross-entropy loss for multi-class classification.\n",
        "\n",
        "Notice that this approach focuses only on training the final linear layer while keeping the extracted features fixed, following the linear probing methodology.\n"
      ],
      "metadata": {
        "id": "qNRkosOTfoPg"
      }
    },
    {
      "cell_type": "code",
      "source": [
        "# Nmber of training epochs\n",
        "epochs = 75\n",
        "\n",
        "# Lists to store training and testing metrics per epoch\n",
        "train_losses = []\n",
        "train_acc = []\n",
        "test_losses = []\n",
        "test_acc = []\n",
        "\n",
        "# Define a simple linear classifier on top of 4096-dimension features\n",
        "classifier = nn.Linear(4096, 10).to(device)\n",
        "\n",
        "# Optimizer: Adam optimizer\n",
        "optimizer = torch.optim.Adam(classifier.parameters(), lr=0.001)\n",
        "\n",
        "# Learning rate scheduler: exponential decay with gamma=0.9\n",
        "scheduler = torch.optim.lr_scheduler.ExponentialLR(optimizer, gamma=0.9)\n",
        "\n",
        "# Loss function: Cross-entropy loss\n",
        "criterion = nn.CrossEntropyLoss()\n",
        "\n",
        "# Training loop\n",
        "for epoch in range(epochs):\n",
        "    classifier.train()  # Set model to training mode\n",
        "    running_loss = 0.0\n",
        "    correct = 0\n",
        "    total = 0\n",
        "\n",
        "    # Iterate over the training dataset\n",
        "    for features, labels in trainloader:\n",
        "        features, labels = features.to(device), labels.to(device)\n",
        "\n",
        "        optimizer.zero_grad()\n",
        "        outputs = classifier(features)\n",
        "        loss = criterion(outputs, labels)\n",
        "        loss.backward()\n",
        "        optimizer.step()\n",
        "\n",
        "        # Accumulate training loss and correct predictions\n",
        "        running_loss += loss.item()\n",
        "        _, predicted = outputs.max(1)\n",
        "        correct += predicted.eq(labels).sum().item()\n",
        "        total += labels.size(0)\n",
        "\n",
        "    # Compute average training loss and accuracy for the epoch\n",
        "    avg_loss = running_loss / len(trainloader)\n",
        "    train_losses.append(avg_loss)\n",
        "    train_acc.append(100 * correct / total)\n",
        "\n",
        "    # Step the learning rate scheduler\n",
        "    scheduler.step()\n",
        "\n",
        "    classifier.eval()  # Set model to evaluation mode\n",
        "    test_loss = 0.0\n",
        "    test_correct = 0\n",
        "    test_total = 0\n",
        "\n",
        "    # Iterate over the test dataset without computing gradients\n",
        "    with torch.no_grad():\n",
        "        for features, labels in testloader:\n",
        "            features, labels = features.to(device), labels.to(device)\n",
        "            outputs = classifier(features)\n",
        "            loss = criterion(outputs, labels)\n",
        "\n",
        "            test_loss += loss.item()\n",
        "            _, predicted = outputs.max(1)\n",
        "            test_correct += predicted.eq(labels).sum().item()\n",
        "            test_total += labels.size(0)\n",
        "\n",
        "    # Average test loss and accuracy for the epoch\n",
        "    avg_test_loss = test_loss / len(testloader)\n",
        "    test_accuracy = 100 * test_correct / test_total\n",
        "    test_losses.append(avg_test_loss)\n",
        "    test_acc.append(test_accuracy)\n",
        "\n",
        "print(\"\\n=== Final Results After Training ===\")\n",
        "print(f\"Final Training Loss: {train_losses[-1]:.4f}\")\n",
        "print(f\"Final Training Accuracy: {train_acc[-1]:.2f}%\")\n",
        "print(f\"Final Test Loss: {test_losses[-1]:.4f}\")\n",
        "print(f\"Final Test Accuracy: {test_acc[-1]:.2f}%\")\n"
      ],
      "metadata": {
        "colab": {
          "base_uri": "https://localhost:8080/"
        },
        "id": "gfGHBdwOOrCW",
        "outputId": "8c9d8f45-a188-4dc9-c405-bb53e2543bc7"
      },
      "execution_count": 17,
      "outputs": [
        {
          "output_type": "stream",
          "name": "stdout",
          "text": [
            "\n",
            "=== Final Results After Training ===\n",
            "Final Training Loss: 0.1496\n",
            "Final Training Accuracy: 96.14%\n",
            "Final Test Loss: 0.5394\n",
            "Final Test Accuracy: 83.44%\n"
          ]
        }
      ]
    },
    {
      "cell_type": "markdown",
      "source": [
        "## Conclusion\n",
        "\n",
        "After training the linear classifier on top of the extracted AlexNet features for 75 epochs, the final results are summarized below:\n",
        "\n",
        "| Metric                | Value          |\n",
        "|------------------------|----------------|\n",
        "| Final Training Loss    | 0.1496          |\n",
        "| Final Training Accuracy| 96.14%          |\n",
        "| Final Test Loss        | 0.5394          |\n",
        "| Final Test Accuracy    | 83.44%          |\n",
        "\n",
        "Future improvements could include fine-tuning the entire network, applying data augmentation, or experimenting with different regularization strategies.\n"
      ],
      "metadata": {
        "id": "laih8y58herh"
      }
    },
    {
      "cell_type": "code",
      "source": [
        "plt.figure(figsize=(8, 3))\n",
        "\n",
        "plt.subplot(1, 2, 1)\n",
        "plt.plot(train_losses, label='Train Loss')\n",
        "plt.plot(test_losses, label='Test Loss')\n",
        "plt.xlabel('Epoch')\n",
        "plt.ylabel('Loss')\n",
        "plt.title('Training vs Test Loss')\n",
        "plt.legend()\n",
        "plt.grid(True)\n",
        "\n",
        "plt.subplot(1, 2, 2)\n",
        "plt.plot(train_acc, label='Train Accuracy')\n",
        "plt.plot(test_acc, label='Test Accuracy')\n",
        "plt.xlabel('Epoch')\n",
        "plt.ylabel('Accuracy (%)')\n",
        "plt.title('Training vs Test Accuracy')\n",
        "plt.legend()\n",
        "plt.grid(True)\n",
        "\n",
        "plt.tight_layout()\n",
        "plt.show()\n"
      ],
      "metadata": {
        "colab": {
          "base_uri": "https://localhost:8080/",
          "height": 307
        },
        "id": "AiqMJ_4ZP2zs",
        "outputId": "bb8e7e0f-e33c-40c2-abce-d709f7fe681b"
      },
      "execution_count": 18,
      "outputs": [
        {
          "output_type": "display_data",
          "data": {
            "text/plain": [
              "<Figure size 800x300 with 2 Axes>"
            ],
            "image/png": "[encoded data removed]"
          },
          "metadata": {}
        }
      ]
    }
  ],
  "metadata": {
    "accelerator": "GPU",
    "colab": {
      "gpuType": "T4",
      "provenance": []
    },
    "kernelspec": {
      "display_name": "Python 3",
      "name": "python3"
    },
    "language_info": {
      "name": "python"
    }
  },
  "nbformat": 4,
  "nbformat_minor": 0
}